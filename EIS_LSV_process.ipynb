{
 "cells": [
  {
   "cell_type": "code",
   "execution_count": 1,
   "metadata": {},
   "outputs": [],
   "source": [
    "import numpy as np \n",
    "import pandas as pd\n",
    "from scipy import interpolate"
   ]
  },
  {
   "cell_type": "markdown",
   "metadata": {},
   "source": [
    "# process the input and target data\n",
    "Convert the EIS data into matrix format, droping the frequency information. For each test, concatenate the Real part and Imaginary part along the 2nd axis, forming a matrix with 72 columns. Thus the matrix formed will act as the input $X$.\n",
    "\n",
    "Process the LSV data to sample the current at specified voltage points, [0.1, 0.2, 0.3, 0.4, 0.5, 0.6, 0.7, 0.8, 0.9, 1.0] V, thus making a 10 dimension target value as $y$.\n",
    "\n",
    "So, finally, the problem is transofmred to the classical regression one by finding the function $f$ that fits $\\hat{y}=f(X)$ where $\\hat{y}$ approximates to $y$. This can be achieved by minimizing the loss function $L(w)=||y-\\hat{y}||_2$, and $w$ is the parameters of function $f$. We will use a simple neural network to approximate $f$ and $w$ will be the weights of the network."
   ]
  },
  {
   "cell_type": "code",
   "execution_count": 2,
   "metadata": {},
   "outputs": [
    {
     "name": "stdout",
     "output_type": "stream",
     "text": [
      "(292, 72)\n"
     ]
    }
   ],
   "source": [
    "# 从CSV文件中读取数据\n",
    "EIS_data = pd.read_csv(\"EIS_merged.csv\")\n",
    "\n",
    "# 提取第2或3及其相应倍数列的全部数据\n",
    "def extract_columns_data(s,data):\n",
    "    columns_to_extract =list(range(s, len(data.columns), 3)) \n",
    "    extracted_data = data.iloc[:, columns_to_extract]\n",
    "    return extracted_data\n",
    "\n",
    "Re_data = extract_columns_data(1,EIS_data)\n",
    "Im_data = extract_columns_data(2,EIS_data)\n",
    "merged_data = np.concatenate((Re_data, Im_data), axis=0)\n",
    "\n",
    "# 转置行和列\n",
    "transposed_data = np.transpose(merged_data)\n",
    "print(transposed_data.shape)\n",
    "# np.savetxt('EIS_data.csv', transposed_data, delimiter=',')\n",
    "np.save('EIS_data.npy', transposed_data)"
   ]
  },
  {
   "cell_type": "code",
   "execution_count": 3,
   "metadata": {},
   "outputs": [
    {
     "name": "stdout",
     "output_type": "stream",
     "text": [
      "(292, 10)\n"
     ]
    }
   ],
   "source": [
    "LSV = pd.read_csv('LSV_merged.csv')\n",
    "E_sample = np.arange(1.0, 0.0, -0.1)\n",
    "I_data = []\n",
    "test_size = int(len(LSV.columns)/2)\n",
    "for i in range(test_size):\n",
    "    I = LSV.iloc[:,2*i]\n",
    "    E = -LSV.iloc[:,2*i+1]\n",
    "    # use the scipy.interpolate.interp1d instead of numpy.interpolate. \n",
    "    # To avoid the error by sampling data at 0V, pass the varaible fill_value\n",
    "    f = interpolate.interp1d(E, I, fill_value=\"extrapolate\")\n",
    "    I_sample = f(E_sample)\n",
    "    I_data.append(I_sample)\n",
    "I_matrix = np.array(I_data)\n",
    "print(I_matrix.shape)\n",
    "# save as .npy format, making the data load easier\n",
    "np.save('I_sample.npy', I_matrix)"
   ]
  },
  {
   "cell_type": "code",
   "execution_count": 7,
   "metadata": {},
   "outputs": [
    {
     "data": {
      "text/html": [
       "<div>\n",
       "<style scoped>\n",
       "    .dataframe tbody tr th:only-of-type {\n",
       "        vertical-align: middle;\n",
       "    }\n",
       "\n",
       "    .dataframe tbody tr th {\n",
       "        vertical-align: top;\n",
       "    }\n",
       "\n",
       "    .dataframe thead th {\n",
       "        text-align: right;\n",
       "    }\n",
       "</style>\n",
       "<table border=\"1\" class=\"dataframe\">\n",
       "  <thead>\n",
       "    <tr style=\"text-align: right;\">\n",
       "      <th></th>\n",
       "      <th>&lt;I&gt;/mA.10</th>\n",
       "      <th>Ewe/V.10</th>\n",
       "    </tr>\n",
       "  </thead>\n",
       "  <tbody>\n",
       "    <tr>\n",
       "      <th>0</th>\n",
       "      <td>0.000000</td>\n",
       "      <td>-1.083448</td>\n",
       "    </tr>\n",
       "    <tr>\n",
       "      <th>1</th>\n",
       "      <td>0.000000</td>\n",
       "      <td>-1.117154</td>\n",
       "    </tr>\n",
       "    <tr>\n",
       "      <th>2</th>\n",
       "      <td>1.509666</td>\n",
       "      <td>-1.103122</td>\n",
       "    </tr>\n",
       "    <tr>\n",
       "      <th>3</th>\n",
       "      <td>1.110828</td>\n",
       "      <td>-1.101226</td>\n",
       "    </tr>\n",
       "    <tr>\n",
       "      <th>4</th>\n",
       "      <td>1.954456</td>\n",
       "      <td>-1.097935</td>\n",
       "    </tr>\n",
       "    <tr>\n",
       "      <th>...</th>\n",
       "      <td>...</td>\n",
       "      <td>...</td>\n",
       "    </tr>\n",
       "    <tr>\n",
       "      <th>332</th>\n",
       "      <td>146.891993</td>\n",
       "      <td>-0.000233</td>\n",
       "    </tr>\n",
       "    <tr>\n",
       "      <th>333</th>\n",
       "      <td>NaN</td>\n",
       "      <td>NaN</td>\n",
       "    </tr>\n",
       "    <tr>\n",
       "      <th>334</th>\n",
       "      <td>NaN</td>\n",
       "      <td>NaN</td>\n",
       "    </tr>\n",
       "    <tr>\n",
       "      <th>335</th>\n",
       "      <td>NaN</td>\n",
       "      <td>NaN</td>\n",
       "    </tr>\n",
       "    <tr>\n",
       "      <th>336</th>\n",
       "      <td>NaN</td>\n",
       "      <td>NaN</td>\n",
       "    </tr>\n",
       "  </tbody>\n",
       "</table>\n",
       "<p>337 rows × 2 columns</p>\n",
       "</div>"
      ],
      "text/plain": [
       "      <I>/mA.10  Ewe/V.10\n",
       "0      0.000000 -1.083448\n",
       "1      0.000000 -1.117154\n",
       "2      1.509666 -1.103122\n",
       "3      1.110828 -1.101226\n",
       "4      1.954456 -1.097935\n",
       "..          ...       ...\n",
       "332  146.891993 -0.000233\n",
       "333         NaN       NaN\n",
       "334         NaN       NaN\n",
       "335         NaN       NaN\n",
       "336         NaN       NaN\n",
       "\n",
       "[337 rows x 2 columns]"
      ]
     },
     "execution_count": 7,
     "metadata": {},
     "output_type": "execute_result"
    }
   ],
   "source": [
    "data = LSV.iloc[:,20:22]\n",
    "data"
   ]
  },
  {
   "cell_type": "code",
   "execution_count": null,
   "metadata": {},
   "outputs": [],
   "source": []
  }
 ],
 "metadata": {
  "kernelspec": {
   "display_name": "torch",
   "language": "python",
   "name": "python3"
  },
  "language_info": {
   "codemirror_mode": {
    "name": "ipython",
    "version": 3
   },
   "file_extension": ".py",
   "mimetype": "text/x-python",
   "name": "python",
   "nbconvert_exporter": "python",
   "pygments_lexer": "ipython3",
   "version": "3.11.0"
  }
 },
 "nbformat": 4,
 "nbformat_minor": 2
}
